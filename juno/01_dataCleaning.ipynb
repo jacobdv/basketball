{
 "cells": [
  {
   "cell_type": "code",
   "execution_count": 1,
   "metadata": {},
   "outputs": [],
   "source": [
    "# Dependencies\n",
    "import pandas as pd\n",
    "\n",
    "# Defaults\n",
    "pd.set_option('display.max_columns', None)\n",
    "pd.set_option('display.max_rows', None)"
   ]
  },
  {
   "cell_type": "code",
   "execution_count": 2,
   "metadata": {},
   "outputs": [],
   "source": [
    "# Team Basic Stats\n",
    "ncaa = pd.read_csv('../data/2021_season.csv').drop([0])\n",
    "ncaa = ncaa.drop([\"Unnamed: 8\",\"Unnamed: 11\",\"Unnamed: 14\",\"Unnamed: 17\",\"Unnamed: 20\"], axis=1).dropna()\n",
    "ncaa.columns = ['rank','school','games','wins','losses','w_pct','srs','sos','c_wins','c_losses','h_wins',\n",
    "               'h_losses','a_wins','a_losses','t_points','o_points','minutes','fg','fga','fg_pct',\n",
    "               'three_p','three_pa','three_p_pct','ft','fta','ft_pct','orb','trb','ast','stl',\n",
    "               'blk','tov','pf']\n",
    "\n",
    "# Opponent Basic Stats\n",
    "ncaa_opp = pd.read_csv('../data/2021_season_opp.csv').drop([0])\n",
    "ncaa_opp = ncaa_opp.drop([\"Unnamed: 8\",\"Unnamed: 11\",\"Unnamed: 14\",\"Unnamed: 17\",\"Unnamed: 20\"], axis=1).dropna()\n",
    "ncaa_opp.columns = ['rank','school','games','wins','losses','w_pct','srs','sos','c_wins','c_losses',\n",
    "                   'h_wins','h_losses','a_wins','a_losses','t_points','o_points','minutes','o_fg','o_fga',\n",
    "                   'o_fg_pct','o_three_p','o_three_pa','o_three_p_pct','o_ft','o_fta','o_ft_pct','o_orb','o_trb',\n",
    "                   'o_ast','o_stl','o_blk','o_tov','o_pf']\n",
    "ncaa_opp = ncaa_opp.drop(['rank','games','wins','losses','w_pct','srs','sos','c_wins','c_losses',\n",
    "                   'h_wins','h_losses','a_wins','a_losses','t_points','o_points','minutes'], axis=1)\n",
    "\n",
    "# Merge of All Basic Stats\n",
    "ncaa = pd.merge(ncaa, ncaa_opp, on='school', how='left')\n",
    "\n",
    "# Team Advanced Stats\n",
    "ncaa_adv = pd.read_csv('../data/2021_season_advanced.csv').drop([0])\n",
    "ncaa_adv = ncaa_adv.drop([\"Unnamed: 8\",\"Unnamed: 11\",\"Unnamed: 14\",\"Unnamed: 17\",\"Unnamed: 20\"], axis=1).dropna()\n",
    "ncaa_adv.columns = ['rank','school','games','wins','losses','w_pct','srs','sos','c_wins','c_losses',\n",
    "                   'h_wins','h_losses','a_wins','a_losses','t_points','o_points','pace','off_rtg',\n",
    "                   'fta_ar','three_p_ar','ts_pct','trb_pct','ast_pct','stl_pct','blk_pct',\n",
    "                   'efg_pct','tov_pct','orb_pct','ft_per_fga']\n",
    "ncaa_adv = ncaa_adv.drop(['rank','games','wins','losses','w_pct','srs','sos','c_wins','c_losses',\n",
    "                   'h_wins','h_losses','a_wins','a_losses','t_points','o_points'], axis=1)\n",
    "\n",
    "# Opponent Advanced Stats\n",
    "ncaa_opp_adv = pd.read_csv('../data/2021_season_opponent_advanced.csv').drop([0])\n",
    "ncaa_opp_adv = ncaa_opp_adv.drop([\"Unnamed: 8\",\"Unnamed: 11\",\"Unnamed: 14\",\"Unnamed: 17\",\"Unnamed: 20\"], axis=1).dropna()\n",
    "ncaa_opp_adv.columns = ['rank','school','games','wins','losses','w_pct','srs','sos','c_wins','c_losses',\n",
    "                   'h_wins','h_losses','a_wins','a_losses','t_points','o_points','o_pace','o_off_rtg',\n",
    "                   'o_fta_ar','o_three_p_ar','o_ts_pct','o_trb_pct','o_ast_pct','o_stl_pct','o_blk_pct',\n",
    "                   'o_efg_pct','o_tov_pct','o_orb_pct','o_ft_per_fga']\n",
    "ncaa_opp_adv = ncaa_opp_adv.drop(['rank','games','wins','losses','w_pct','srs','sos','c_wins','c_losses',\n",
    "                   'h_wins','h_losses','a_wins','a_losses','t_points','o_points'], axis=1)\n",
    "\n",
    "# Merge of All Advanced Stats\n",
    "ncaa_adv = pd.merge(ncaa_adv, ncaa_opp_adv, on='school', how='left')\n",
    "\n",
    "# Merge of All Stats\n",
    "ncaa = pd.merge(ncaa, ncaa_adv, on='school', how='left')"
   ]
  },
  {
   "cell_type": "code",
   "execution_count": 3,
   "metadata": {},
   "outputs": [],
   "source": [
    "# Retyping All Data\n",
    "ncaa = ncaa.astype({'rank':'int64','school':'string','games':'int64','wins':'int64',\n",
    "                    'losses':'int64','w_pct':'float64','srs':'float64','sos':'float64',\n",
    "                    'c_wins':'int64','c_losses':'int64','h_wins':'int64','h_losses':'int64', \n",
    "                    'a_wins':'int64','a_losses':'int64','t_points':'int64','o_points':'int64',\n",
    "                    'minutes':'int64','fg':'int64','fga':'int64','fg_pct':'float64','three_p':'int64',\n",
    "                    'three_pa':'int64','three_p_pct':'float64','ft':'int64','fta':'int64',\n",
    "                    'ft_pct':'float64','orb':'int64','trb':'int64','ast':'int64','stl':'int64',\n",
    "                    'blk':'int64','tov':'int64','pf':'int64','o_fg':'int64','o_fga':'int64',\n",
    "                    'o_fg_pct':'float64','o_three_p':'int64','o_three_pa':'int64','o_three_p_pct':'float64',\n",
    "                    'o_ft':'int64','o_fta':'int64','o_ft_pct':'float64','o_orb':'int64','o_trb':'int64',\n",
    "                    'o_ast':'int64','o_stl':'int64','o_blk':'int64','o_tov':'int64','o_pf':'int64',\n",
    "                    'pace':'float64','off_rtg':'float64','fta_ar':'float64','three_p_ar':'float64',\n",
    "                    'ts_pct':'float64','trb_pct':'float64','ast_pct':'float64','stl_pct':'float64',\n",
    "                    'blk_pct':'float64','efg_pct':'float64','tov_pct':'float64','orb_pct':'float64',\n",
    "                    'ft_per_fga':'float64','o_pace':'float64','o_off_rtg':'float64','o_fta_ar':'float64',\n",
    "                    'o_three_p_ar':'float64','o_ts_pct':'float64','o_trb_pct':'float64','o_ast_pct':'float64',\n",
    "                    'o_stl_pct':'float64','o_blk_pct':'float64','o_efg_pct':'float64','o_tov_pct':'float64',\n",
    "                    'o_orb_pct':'float64', 'o_ft_per_fga':'float64'})"
   ]
  },
  {
   "cell_type": "code",
   "execution_count": 4,
   "metadata": {},
   "outputs": [],
   "source": [
    "# Adding Advanced Calculations\n",
    "my = pd.DataFrame()\n",
    "my['school'] = ncaa['school']\n",
    "# ORB / ORB + O_DRB\n",
    "my['ors_pct'] = ncaa['orb'] / (ncaa['orb'] + (ncaa['o_trb'] - ncaa['o_orb']))\n",
    "my['o_ors_pct'] = ncaa['o_orb'] / (ncaa['o_orb'] + (ncaa['trb'] - ncaa['orb']))\n",
    "# DRB / DRB + O_ORB\n",
    "my['drs_pct'] = (ncaa['trb'] - ncaa['orb']) / ((ncaa['trb'] - ncaa['orb']) + ncaa['o_orb']) \n",
    "my['o_drs_pct'] = (ncaa['o_trb'] - ncaa['o_orb']) / ((ncaa['o_trb'] - ncaa['o_orb']) + ncaa['orb']) \n",
    "# REBOUND SUCCESS PERCENTAGE\n",
    "my['trs_pct'] = my['ors_pct'] + my['drs_pct']\n",
    "my['o_trs_pct'] = my['o_ors_pct'] + my['o_drs_pct']\n",
    "# AST / TOV\n",
    "my['ast_per_tov'] = ncaa['ast'] / ncaa['tov']\n",
    "my['o_ast_per_tov'] = ncaa['o_ast'] / ncaa['o_tov']\n",
    "# 2P\n",
    "my['two_p'] = ncaa['fg'] - ncaa['three_p']\n",
    "my['o_two_p'] = ncaa['o_fg'] - ncaa['o_three_p']\n",
    "# 2PA\n",
    "my['two_pa'] = ncaa['fga'] - ncaa['three_pa']\n",
    "my['o_two_pa'] = ncaa['o_fga'] - ncaa['o_three_pa']\n",
    "# 2P_PCT\n",
    "my['two_p_pct'] = my['two_p'] / my['two_pa']\n",
    "my['o_two_p_pct'] = my['o_two_p'] / my['o_two_pa']\n",
    "# Possessions\n",
    "my['poss'] = ncaa['games'] * ncaa ['pace']\n",
    "my['o_poss'] = ncaa['games'] * ncaa['o_pace']"
   ]
  },
  {
   "cell_type": "code",
   "execution_count": 5,
   "metadata": {},
   "outputs": [],
   "source": [
    "# Merges New Stats Into NCAA\n",
    "ncaa = pd.merge(ncaa, my, on='school', how='left')"
   ]
  },
  {
   "cell_type": "code",
   "execution_count": 6,
   "metadata": {},
   "outputs": [],
   "source": [
    "# Alphabetically Ordering Columns After School\n",
    "ncaa = ncaa[['school',\n",
    "    'a_losses', 'a_wins', 'ast', 'ast_pct', 'ast_per_tov', 'blk', 'blk_pct', 'c_losses',\n",
    " 'c_wins', 'drs_pct', 'efg_pct', 'fg', 'fg_pct', 'fga', 'ft', 'ft_pct', 'ft_per_fga', 'fta',\n",
    " 'fta_ar', 'games', 'h_losses', 'h_wins', 'losses', 'minutes', 'o_ast', 'o_ast_pct',\n",
    " 'o_ast_per_tov', 'o_blk', 'o_blk_pct', 'o_drs_pct', 'o_efg_pct', 'o_fg', 'o_fg_pct',\n",
    " 'o_fga', 'o_ft', 'o_ft_pct', 'o_ft_per_fga', 'o_fta', 'o_fta_ar', 'o_off_rtg', 'o_orb',\n",
    " 'o_orb_pct', 'o_ors_pct', 'o_pace', 'o_pf', 'o_points', 'o_poss', 'o_stl', 'o_stl_pct',\n",
    " 'o_three_p', 'o_three_p_ar', 'o_three_p_pct', 'o_three_pa', 'o_tov', 'o_tov_pct', 'o_trb',\n",
    " 'o_trb_pct', 'o_trs_pct', 'o_ts_pct', 'o_two_p', 'o_two_p_pct', 'o_two_pa', 'off_rtg', 'orb',\n",
    " 'orb_pct', 'ors_pct', 'pace', 'pf', 'poss', 'rank', 'sos', 'srs', 'stl', 'stl_pct', 't_points',\n",
    " 'three_p', 'three_p_ar', 'three_p_pct', 'three_pa', 'tov', 'tov_pct', 'trb', 'trb_pct', 'trs_pct', \n",
    " 'ts_pct', 'two_p', 'two_p_pct', 'two_pa', 'w_pct', 'wins']]"
   ]
  },
  {
   "cell_type": "code",
   "execution_count": 7,
   "metadata": {},
   "outputs": [],
   "source": [
    "ncaa.to_csv('../data/completeSeasonData2021.csv')"
   ]
  },
  {
   "cell_type": "code",
   "execution_count": 8,
   "metadata": {},
   "outputs": [
    {
     "data": {
      "text/plain": [
       "Index(['school', 'a_losses', 'a_wins', 'ast', 'ast_pct', 'ast_per_tov', 'blk',\n",
       "       'blk_pct', 'c_losses', 'c_wins', 'drs_pct', 'efg_pct', 'fg', 'fg_pct',\n",
       "       'fga', 'ft', 'ft_pct', 'ft_per_fga', 'fta', 'fta_ar', 'games',\n",
       "       'h_losses', 'h_wins', 'losses', 'minutes', 'o_ast', 'o_ast_pct',\n",
       "       'o_ast_per_tov', 'o_blk', 'o_blk_pct', 'o_drs_pct', 'o_efg_pct', 'o_fg',\n",
       "       'o_fg_pct', 'o_fga', 'o_ft', 'o_ft_pct', 'o_ft_per_fga', 'o_fta',\n",
       "       'o_fta_ar', 'o_off_rtg', 'o_orb', 'o_orb_pct', 'o_ors_pct', 'o_pace',\n",
       "       'o_pf', 'o_points', 'o_poss', 'o_stl', 'o_stl_pct', 'o_three_p',\n",
       "       'o_three_p_ar', 'o_three_p_pct', 'o_three_pa', 'o_tov', 'o_tov_pct',\n",
       "       'o_trb', 'o_trb_pct', 'o_trs_pct', 'o_ts_pct', 'o_two_p', 'o_two_p_pct',\n",
       "       'o_two_pa', 'off_rtg', 'orb', 'orb_pct', 'ors_pct', 'pace', 'pf',\n",
       "       'poss', 'rank', 'sos', 'srs', 'stl', 'stl_pct', 't_points', 'three_p',\n",
       "       'three_p_ar', 'three_p_pct', 'three_pa', 'tov', 'tov_pct', 'trb',\n",
       "       'trb_pct', 'trs_pct', 'ts_pct', 'two_p', 'two_p_pct', 'two_pa', 'w_pct',\n",
       "       'wins'],\n",
       "      dtype='object')"
      ]
     },
     "execution_count": 8,
     "metadata": {},
     "output_type": "execute_result"
    }
   ],
   "source": [
    "ncaa.columns"
   ]
  },
  {
   "cell_type": "code",
   "execution_count": null,
   "metadata": {},
   "outputs": [],
   "source": []
  }
 ],
 "metadata": {
  "kernelspec": {
   "display_name": "Python 3",
   "language": "python",
   "name": "python3"
  },
  "language_info": {
   "codemirror_mode": {
    "name": "ipython",
    "version": 3
   },
   "file_extension": ".py",
   "mimetype": "text/x-python",
   "name": "python",
   "nbconvert_exporter": "python",
   "pygments_lexer": "ipython3",
   "version": "3.8.5"
  }
 },
 "nbformat": 4,
 "nbformat_minor": 4
}
